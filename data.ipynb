{
 "cells": [
  {
   "cell_type": "code",
   "execution_count": 4,
   "metadata": {},
   "outputs": [],
   "source": [
    "import pandas as pd\n",
    "import json\n",
    "\n",
    "# df = pd.read_json(\"multi_level_summaries/chunjuk_gloss_v5.jsonl\",lines=True)\n",
    "\n",
    "# df.head()\n",
    "lines = []\n",
    "with open(\"chunjuk_gloss_v5.jsonl\", 'r') as f:\n",
    "    for line in f:\n",
    "        line = line.strip()\n",
    "        if line:  # Skip empty lines\n",
    "            try:\n",
    "                lines.append(json.loads(line))\n",
    "            except json.JSONDecodeError:\n",
    "                print(f\"Skipping malformed line: {line}\")\n",
    "                continue\n",
    "\n",
    "data_1 = pd.DataFrame(lines)"
   ]
  },
  {
   "cell_type": "code",
   "execution_count": 9,
   "metadata": {},
   "outputs": [],
   "source": [
    "import pandas as pd\n",
    "\n",
    "data_2 = pd.read_json(\"data/chojuk/combined_MLS_en.json\")\n"
   ]
  },
  {
   "cell_type": "code",
   "execution_count": 13,
   "metadata": {},
   "outputs": [
    {
     "data": {
      "text/plain": [
       "level                                                       chapter-4\n",
       "number                                                            NaN\n",
       "title                         བག་ཡོད་བསྟན་པ། (Chapter on Heedfulness)\n",
       "verses_span                                                      1-55\n",
       "processing_notes                                                  NaN\n",
       "summary             {'content_summary': 'This chapter, 'Heedfulnes...\n",
       "children            [{'level': 'section-4.1', 'title': 'མདོར་བསྟན་...\n",
       "Name: 3, dtype: object"
      ]
     },
     "execution_count": 13,
     "metadata": {},
     "output_type": "execute_result"
    }
   ],
   "source": [
    "data_2.iloc[3]"
   ]
  },
  {
   "cell_type": "code",
   "execution_count": null,
   "metadata": {},
   "outputs": [],
   "source": []
  }
 ],
 "metadata": {
  "kernelspec": {
   "display_name": "Python 3",
   "language": "python",
   "name": "python3"
  },
  "language_info": {
   "codemirror_mode": {
    "name": "ipython",
    "version": 3
   },
   "file_extension": ".py",
   "mimetype": "text/x-python",
   "name": "python",
   "nbconvert_exporter": "python",
   "pygments_lexer": "ipython3",
   "version": "3.13.5"
  }
 },
 "nbformat": 4,
 "nbformat_minor": 2
}
